{
 "cells": [
  {
   "cell_type": "markdown",
   "metadata": {},
   "source": [
    "### Урок 2. Непрерывность, гладкость и сходимость ЦФ. Дискретные ЦФ#"
   ]
  },
  {
   "cell_type": "markdown",
   "metadata": {},
   "source": [
    "### -- Автор: Шенк Евгений Станиславович"
   ]
  },
  {
   "cell_type": "code",
   "execution_count": 1,
   "metadata": {},
   "outputs": [],
   "source": [
    "import numpy as np    \n",
    "import math\n",
    "import itertools\n",
    "import matplotlib.pyplot as plt\n",
    "from mpl_toolkits.mplot3d import Axes3D\n",
    "\n",
    "%matplotlib inline"
   ]
  },
  {
   "cell_type": "markdown",
   "metadata": {},
   "source": [
    "### Задание 1."
   ]
  },
  {
   "cell_type": "markdown",
   "metadata": {},
   "source": [
    "Директор выделил машину под закупку оборудования, выделил достаточно большое количество денег и сказал: «Берите, что вам нужно, но не более 200 кг. И каждого товара берите не более одной единицы!» Есть прайс-лист на 2000 наименований.  \n",
    "Стоимости товаров варьируются от \\\\$100 до \\\\$5000 с шагом \\\\$100.  \n",
    "Массы товаров варьируются от 1 до 150 кг с шагом в 1 кг.  \n",
    "Зависимостей между массой и стоимостью нет (может выпасть товар массой 1 кг и стоимостью \\\\$5000 и массой 150 кг и стоимостью \\\\$100.  \n",
    "1. Необходимо составить ЦФ для этой задачи, выбрать критерий оптимальности и...  \n",
    "2. *...предложить алгоритм её решения.  "
   ]
  },
  {
   "cell_type": "markdown",
   "metadata": {},
   "source": [
    "Предположим, что нам нужно набрать оборудовани на 200кг (или менее) по минимальной цене, т.е. мин \\\\$/кг.\n",
    "Т.е. нас интересуют тяжелые и дешевые.  \n",
    "Целевая функция:  \n",
    "W(i) - все комбинации оборудования дающие 200 кг  \n",
    "P(i) - цена комбинации оборудования  \n",
    "F - целевая функция (цена в \\\\$)  "
   ]
  },
  {
   "cell_type": "markdown",
   "metadata": {},
   "source": [
    "#### Критерий оптимальности:  F = min ( W(i) * P(i) )"
   ]
  },
  {
   "cell_type": "code",
   "execution_count": 2,
   "metadata": {},
   "outputs": [],
   "source": [
    "np.random.seed(2177)"
   ]
  },
  {
   "cell_type": "code",
   "execution_count": 3,
   "metadata": {},
   "outputs": [],
   "source": [
    "# Прайс лист из 2000 наименований\n",
    "# x[0] - Номер оборудования\n",
    "# x[1] - вес\n",
    "# x[2] - цена\n",
    "Price_list = [[x, np.random.randint(1, 150), np.random.randint(1, 50)*100] for x in range(0, 2000)]"
   ]
  },
  {
   "cell_type": "code",
   "execution_count": 4,
   "metadata": {},
   "outputs": [],
   "source": [
    "# Прайс лист, но со стоимостью за кг\n",
    "# x[3] - $/кг\n",
    "Price_per_kg = [[x[0], x[1], x[2], float(x[2]/x[1])] for x in Price_list]"
   ]
  },
  {
   "cell_type": "code",
   "execution_count": 5,
   "metadata": {},
   "outputs": [],
   "source": [
    "# Сортируем прайс по стоимости за кг\n",
    "Price_per_kg.sort(key=lambda i: i[3])"
   ]
  },
  {
   "cell_type": "code",
   "execution_count": 6,
   "metadata": {},
   "outputs": [
    {
     "data": {
      "text/plain": [
       "[[1020, 146, 100, 0.684931506849315],\n",
       " [1382, 144, 100, 0.6944444444444444],\n",
       " [1555, 141, 100, 0.7092198581560284],\n",
       " [1723, 140, 100, 0.7142857142857143],\n",
       " [392, 138, 100, 0.7246376811594203],\n",
       " [79, 136, 100, 0.7352941176470589],\n",
       " [1268, 133, 100, 0.7518796992481203],\n",
       " [1802, 128, 100, 0.78125],\n",
       " [171, 126, 100, 0.7936507936507936],\n",
       " [1199, 118, 100, 0.847457627118644]]"
      ]
     },
     "execution_count": 6,
     "metadata": {},
     "output_type": "execute_result"
    }
   ],
   "source": [
    "Price_per_kg[0:10]"
   ]
  },
  {
   "cell_type": "code",
   "execution_count": 7,
   "metadata": {},
   "outputs": [],
   "source": [
    "min_price = 5000\n",
    "list_of_obj = []  # Список номеров оборудования с мин ценой\n",
    "for st in range(0, 2000): # Берем все элементы по очереди\n",
    "    weight = 0\n",
    "    price = 0\n",
    "    current_list = []\n",
    "    for i in Price_per_kg[st:]: # Перебираем все элементы от текущего\n",
    "        if min_price < i[2]: # Если стоимость оборудование больше, чем цена уже имеющегося набора, то все останавливаем\n",
    "            break\n",
    "        if (weight + i[1]) <= 200: # Набираем элементы до 200 кг по увеличению стоимости за кг\n",
    "            weight += i[1]\n",
    "            price += i[2]\n",
    "            current_list.append(i[0]) # Добавляем номера подходящего оборудования в список\n",
    "        if weight == 200:\n",
    "            if price < min_price:  # Если полученая цена меньше чем у предыдущего набора, то записываем ее и новый список\n",
    "                min_price = price\n",
    "                list_of_obj = current_list\n",
    "            continue            "
   ]
  },
  {
   "cell_type": "code",
   "execution_count": 8,
   "metadata": {},
   "outputs": [
    {
     "data": {
      "text/plain": [
       "[1723, 1046]"
      ]
     },
     "execution_count": 8,
     "metadata": {},
     "output_type": "execute_result"
    }
   ],
   "source": [
    "list_of_obj"
   ]
  },
  {
   "cell_type": "code",
   "execution_count": 9,
   "metadata": {},
   "outputs": [],
   "source": [
    "result = [x for x in Price_per_kg if (x[0] in list_of_obj)]"
   ]
  },
  {
   "cell_type": "code",
   "execution_count": 10,
   "metadata": {},
   "outputs": [
    {
     "data": {
      "text/plain": [
       "[[1723, 140, 100, 0.7142857142857143], [1046, 60, 100, 1.6666666666666667]]"
      ]
     },
     "execution_count": 10,
     "metadata": {},
     "output_type": "execute_result"
    }
   ],
   "source": [
    "result"
   ]
  },
  {
   "cell_type": "markdown",
   "metadata": {},
   "source": [
    "#### Ответ: Получаем список оборудования для покупки (на np.random.seed(2177)) на 200 кг (140+60), стоимостью 200\\\\$ (100+100) и номерами по каталогу 1723 и 1046"
   ]
  },
  {
   "cell_type": "code",
   "execution_count": null,
   "metadata": {},
   "outputs": [],
   "source": []
  },
  {
   "cell_type": "markdown",
   "metadata": {},
   "source": [
    "### Задание 2."
   ]
  },
  {
   "cell_type": "markdown",
   "metadata": {},
   "source": [
    "Предприятие выпускает покрышки и надувные лодки.  \n",
    "Производство одной покрышки занимает 2 часа на заготовительном участке, 4 часа на участке обработки, 0 часов на участке сборки.  \n",
    "Производство одной лодки занимает 6 часов на заготовительном участке, 3 часа на участке обработки, 2 часа на участке сборки.  \n",
    "Стоимость одной лодки — 12000 рублей, стоимость покрышки — 7000 рублей.  \n",
    "Фонд времени в день: заготовительного участка — 14 нормочасов, участка обработки — 10 нч, участка сборки — 8 нч.  \n",
    "1. Составить ЦФ, записать ограничения и функцию Лагранжа для решения этой задачи.  \n",
    "* Разработать оптимальный производственный план предприятия.  "
   ]
  },
  {
   "cell_type": "markdown",
   "metadata": {},
   "source": [
    "$F = 7000 * n1 + 12000 * n2$  \n",
    "$F(n1, n2) = max(F)$  "
   ]
  },
  {
   "cell_type": "markdown",
   "metadata": {},
   "source": [
    "### Ограничения:"
   ]
  },
  {
   "cell_type": "markdown",
   "metadata": {},
   "source": [
    "$2 * n1 + 6 * n2 \\leq 14$  \n",
    "$4 * n1 + 3 * n2 \\leq 10$  \n",
    "$0 * n1 + 2 * n2 \\leq 8$"
   ]
  },
  {
   "cell_type": "markdown",
   "metadata": {},
   "source": [
    "### Функция Лагранжа:"
   ]
  },
  {
   "cell_type": "markdown",
   "metadata": {},
   "source": [
    "$L(n_1,n_2,\\lambda_1,\\lambda_2,\\lambda_3) = 7000n_1+12000n_2 + \\lambda_1(2n_1+6n_2-14) + \\lambda_2(4n_1+3n_2-10) + \\lambda_3(2n_2-8)$<br>"
   ]
  },
  {
   "cell_type": "markdown",
   "metadata": {},
   "source": [
    "т.к. условие по $\\lambda_3(2n_2-8)$ недостижимо (на заготовительном участке потребуется 6*4=24 часа), то $\\lambda_3$ уберем"
   ]
  },
  {
   "cell_type": "markdown",
   "metadata": {},
   "source": [
    "$L(n_1,n_2,\\lambda_1,\\lambda_2) = 7000n_1+12000n_2 + \\lambda_1(2n_1+6n_2-14) + \\lambda_2(4n_1+3n_2-10)$<br>"
   ]
  },
  {
   "cell_type": "markdown",
   "metadata": {},
   "source": [
    "Запишем уравнения для частных производных функции Лагранжа:<br>\n",
    "$\\frac{\\delta{L(n_1,n_2,\\lambda_1,\\lambda_2)}}{\\delta{n_1}} = 7000 + 2\\lambda_1 + 4\\lambda_2 = 0$<br>\n",
    "$\\frac{\\delta{L(n_1,n_2,\\lambda_1,\\lambda_2)}}{\\delta{n_2}} = 12000 + 6\\lambda_1 + 3\\lambda_2 = 0$<br>\n",
    "$\\frac{\\delta{L(n_1,n_2,\\lambda_1,\\lambda_2)}}{\\delta{\\lambda_1}} = 2n_1+6n_2-14 = 0$<br>\n",
    "$\\frac{\\delta{L(n_1,n_2,\\lambda_1,\\lambda_2)}}{\\delta{\\lambda_2}} = 4n_1+3n_2-10 = 0$<br>"
   ]
  },
  {
   "cell_type": "markdown",
   "metadata": {},
   "source": [
    "Для этой задачи подмножество двух последних уравнений будет независимым от первых двух и совместным относительно $n_1$ и $n_2$.  \n",
    "Решая систему, получим $n_1^* = 1$, $n_2^* = 2$.<br>\n",
    "Ответ: наибольшую прибыль в размере 31000 рублей передприятие получит, производя 1 покрышку и 2 лодки в день."
   ]
  },
  {
   "cell_type": "code",
   "execution_count": null,
   "metadata": {},
   "outputs": [],
   "source": []
  }
 ],
 "metadata": {
  "kernelspec": {
   "display_name": "Python 3",
   "language": "python",
   "name": "python3"
  },
  "language_info": {
   "codemirror_mode": {
    "name": "ipython",
    "version": 3
   },
   "file_extension": ".py",
   "mimetype": "text/x-python",
   "name": "python",
   "nbconvert_exporter": "python",
   "pygments_lexer": "ipython3",
   "version": "3.7.6"
  }
 },
 "nbformat": 4,
 "nbformat_minor": 4
}
