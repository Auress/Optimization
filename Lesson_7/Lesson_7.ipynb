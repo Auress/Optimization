{
 "cells": [
  {
   "cell_type": "markdown",
   "metadata": {},
   "source": [
    "### Урок 7. Методы оптимизации"
   ]
  },
  {
   "cell_type": "markdown",
   "metadata": {},
   "source": [
    "### -- Автор: Шенк Евгений Станиславович"
   ]
  },
  {
   "cell_type": "markdown",
   "metadata": {},
   "source": [
    "### Задание 1."
   ]
  },
  {
   "cell_type": "markdown",
   "metadata": {},
   "source": [
    "Выбрать один из алгоритмов представленных по ссылке и реализовать его.\n",
    "https://coderlessons.com/tutorials/akademicheskii/izuchite-geneticheskie-algoritmy/geneticheskie-algoritmy-krossover\n",
    "\n",
    "*вы также можете попробовать подставить его в реализацию в методичке, часть 1"
   ]
  },
  {
   "cell_type": "markdown",
   "metadata": {},
   "source": [
    "Выполнение:  \n",
    "    1. Выбран алгоритм Целая арифметическая рекомбинация и реализован ниже.  \n",
    "    2. Подставлен в реализацию из методички. Alpha=0.35  "
   ]
  },
  {
   "cell_type": "code",
   "execution_count": 1,
   "metadata": {
    "colab": {},
    "colab_type": "code",
    "id": "thz4sGKHYzaE"
   },
   "outputs": [],
   "source": [
    "from typing import Dict\n",
    "from copy import deepcopy\n",
    "from tqdm import tqdm\n",
    "\n",
    "import random\n",
    "import numpy as np\n",
    "import pandas as pd\n",
    "import xgboost as xgb\n",
    "\n",
    "from sklearn.metrics import roc_auc_score\n",
    "from sklearn.model_selection import train_test_split\n",
    "from IPython.display import clear_output\n",
    "\n",
    "import seaborn as sns\n",
    "import matplotlib.pyplot as plt"
   ]
  },
  {
   "cell_type": "markdown",
   "metadata": {
    "colab_type": "text",
    "id": "lSZ-yOOvYzaZ"
   },
   "source": [
    "## Crossover\n",
    "\n",
    "Существуют различные методы определения пересечения в случае генетических алгоритмов, такие как одноточечный, двухточечный и k-точечный кроссовер, равномерный кроссовер и кроссовер для упорядоченных списков. Мы будем использовать единый кроссовер, где каждый параметр для ребенка (нового объекта популяции) будет независимо выбираться из родителей на основе определенного распределения. В нашем случае, мы будем использовать дискретное равномерное распределение из numpy.random."
   ]
  },
  {
   "cell_type": "code",
   "execution_count": 2,
   "metadata": {},
   "outputs": [],
   "source": [
    "def crossover_arithmetic_recombination(parents, children_size, alpha):\n",
    "   \n",
    "    children = np.empty(children_size)\n",
    "\n",
    "    for i in range(children_size[0]):\n",
    "        parent1_idx = i % parents.shape[0]\n",
    "        parent2_idx = (i+1) % parents.shape[0]\n",
    "        \n",
    "        for j in range(children_size[1]):\n",
    "\n",
    "            # Берем средневзвешенное значение двух родителей\n",
    "            children[i, j] = parents[parent1_idx, j] * alpha + parents[parent2_idx, j] * (1 - alpha)\n",
    "            \n",
    "            # Ограничиваем количество знаков после запятой, как у первого родителя (например для избежания попадания дробных значений в \"max_depth\")\n",
    "            if parents[parent1_idx, j]==int(parents[parent1_idx, j]):\n",
    "                children[i, j] = np.round(children[i, j], 0)\n",
    "            else:\n",
    "                children[i, j] = np.round(children[i, j], (abs(str(parents[parent1_idx, j]).find('.') - len(str(parents[parent1_idx, j]))) - 1))\n",
    "\n",
    "    return children"
   ]
  },
  {
   "cell_type": "code",
   "execution_count": 3,
   "metadata": {
    "colab": {},
    "colab_type": "code",
    "id": "FTEWIqeJYzaa"
   },
   "outputs": [],
   "source": [
    "# оставлен в коде для сравнения, но дальше не используется\n",
    "def crossover_uniform(parents, children_size):\n",
    "    \"\"\"\n",
    "    \n",
    "    \"\"\"\n",
    "    idx_1 = np.arange(0, np.uint8(children_size[1]), 1, dtype=np.uint8)\n",
    "    \n",
    "    idx_2 = np.random.randint(0, np.uint8(children_size[1]), np.uint(children_size[1]/2))\n",
    "    \n",
    "    idx_3 = np.array(list(set(idx_1) - set(idx_2)))\n",
    "    \n",
    "    children = np.empty(children_size)\n",
    "\n",
    "    for i in range(children_size[0]):\n",
    "        parent1_idx = i % parents.shape[0]\n",
    "        parent2_idx = (i+1) % parents.shape[0]\n",
    "\n",
    "        children[i, idx_2] = parents[parent1_idx, idx_2]\n",
    "        children[i, idx_3] = parents[parent2_idx, idx_3]\n",
    "\n",
    "    return children"
   ]
  },
  {
   "cell_type": "code",
   "execution_count": 4,
   "metadata": {
    "colab": {},
    "colab_type": "code",
    "id": "Uk7qBxtEYzaH",
    "outputId": "f91e321d-6787-4739-829c-9e80147f84a4"
   },
   "outputs": [
    {
     "data": {
      "text/html": [
       "<div>\n",
       "<style scoped>\n",
       "    .dataframe tbody tr th:only-of-type {\n",
       "        vertical-align: middle;\n",
       "    }\n",
       "\n",
       "    .dataframe tbody tr th {\n",
       "        vertical-align: top;\n",
       "    }\n",
       "\n",
       "    .dataframe thead th {\n",
       "        text-align: right;\n",
       "    }\n",
       "</style>\n",
       "<table border=\"1\" class=\"dataframe\">\n",
       "  <thead>\n",
       "    <tr style=\"text-align: right;\">\n",
       "      <th></th>\n",
       "      <th>SK_ID_CURR</th>\n",
       "      <th>TARGET</th>\n",
       "      <th>NAME_CONTRACT_TYPE</th>\n",
       "      <th>CODE_GENDER</th>\n",
       "      <th>FLAG_OWN_CAR</th>\n",
       "      <th>FLAG_OWN_REALTY</th>\n",
       "      <th>CNT_CHILDREN</th>\n",
       "      <th>AMT_INCOME_TOTAL</th>\n",
       "      <th>AMT_CREDIT</th>\n",
       "      <th>AMT_ANNUITY</th>\n",
       "      <th>...</th>\n",
       "      <th>FLAG_DOCUMENT_19</th>\n",
       "      <th>FLAG_DOCUMENT_20</th>\n",
       "      <th>FLAG_DOCUMENT_21</th>\n",
       "      <th>AMT_REQ_CREDIT_BUREAU_HOUR</th>\n",
       "      <th>AMT_REQ_CREDIT_BUREAU_DAY</th>\n",
       "      <th>AMT_REQ_CREDIT_BUREAU_WEEK</th>\n",
       "      <th>AMT_REQ_CREDIT_BUREAU_MON</th>\n",
       "      <th>AMT_REQ_CREDIT_BUREAU_QRT</th>\n",
       "      <th>AMT_REQ_CREDIT_BUREAU_YEAR</th>\n",
       "      <th>COMMUNICATION_TYPE</th>\n",
       "    </tr>\n",
       "  </thead>\n",
       "  <tbody>\n",
       "    <tr>\n",
       "      <th>0</th>\n",
       "      <td>380238</td>\n",
       "      <td>0</td>\n",
       "      <td>Cash loans</td>\n",
       "      <td>F</td>\n",
       "      <td>N</td>\n",
       "      <td>Y</td>\n",
       "      <td>0</td>\n",
       "      <td>112500.0</td>\n",
       "      <td>371245.5</td>\n",
       "      <td>13464.0</td>\n",
       "      <td>...</td>\n",
       "      <td>0</td>\n",
       "      <td>0</td>\n",
       "      <td>0</td>\n",
       "      <td>0.0</td>\n",
       "      <td>0.0</td>\n",
       "      <td>0.0</td>\n",
       "      <td>0.0</td>\n",
       "      <td>0.0</td>\n",
       "      <td>6.0</td>\n",
       "      <td>PUSH</td>\n",
       "    </tr>\n",
       "    <tr>\n",
       "      <th>1</th>\n",
       "      <td>262962</td>\n",
       "      <td>1</td>\n",
       "      <td>Cash loans</td>\n",
       "      <td>F</td>\n",
       "      <td>N</td>\n",
       "      <td>Y</td>\n",
       "      <td>0</td>\n",
       "      <td>157500.0</td>\n",
       "      <td>675000.0</td>\n",
       "      <td>32602.5</td>\n",
       "      <td>...</td>\n",
       "      <td>0</td>\n",
       "      <td>0</td>\n",
       "      <td>0</td>\n",
       "      <td>0.0</td>\n",
       "      <td>0.0</td>\n",
       "      <td>0.0</td>\n",
       "      <td>0.0</td>\n",
       "      <td>0.0</td>\n",
       "      <td>3.0</td>\n",
       "      <td>PUSH</td>\n",
       "    </tr>\n",
       "  </tbody>\n",
       "</table>\n",
       "<p>2 rows × 122 columns</p>\n",
       "</div>"
      ],
      "text/plain": [
       "   SK_ID_CURR  TARGET NAME_CONTRACT_TYPE CODE_GENDER FLAG_OWN_CAR  \\\n",
       "0      380238       0         Cash loans           F            N   \n",
       "1      262962       1         Cash loans           F            N   \n",
       "\n",
       "  FLAG_OWN_REALTY  CNT_CHILDREN  AMT_INCOME_TOTAL  AMT_CREDIT  AMT_ANNUITY  \\\n",
       "0               Y             0          112500.0    371245.5      13464.0   \n",
       "1               Y             0          157500.0    675000.0      32602.5   \n",
       "\n",
       "   ...  FLAG_DOCUMENT_19 FLAG_DOCUMENT_20 FLAG_DOCUMENT_21  \\\n",
       "0  ...                 0                0                0   \n",
       "1  ...                 0                0                0   \n",
       "\n",
       "  AMT_REQ_CREDIT_BUREAU_HOUR AMT_REQ_CREDIT_BUREAU_DAY  \\\n",
       "0                        0.0                       0.0   \n",
       "1                        0.0                       0.0   \n",
       "\n",
       "  AMT_REQ_CREDIT_BUREAU_WEEK  AMT_REQ_CREDIT_BUREAU_MON  \\\n",
       "0                        0.0                        0.0   \n",
       "1                        0.0                        0.0   \n",
       "\n",
       "   AMT_REQ_CREDIT_BUREAU_QRT  AMT_REQ_CREDIT_BUREAU_YEAR  COMMUNICATION_TYPE  \n",
       "0                        0.0                         6.0                PUSH  \n",
       "1                        0.0                         3.0                PUSH  \n",
       "\n",
       "[2 rows x 122 columns]"
      ]
     },
     "execution_count": 4,
     "metadata": {},
     "output_type": "execute_result"
    }
   ],
   "source": [
    "data = pd.read_csv(\"train.csv\")\n",
    "data = data.sample(50000).reset_index(drop=True)\n",
    "\n",
    "data.head(n=2)"
   ]
  },
  {
   "cell_type": "code",
   "execution_count": 5,
   "metadata": {
    "colab": {},
    "colab_type": "code",
    "id": "4jzg5Ay7YzaK"
   },
   "outputs": [],
   "source": [
    "x_train, x_valid = train_test_split(\n",
    "    data, train_size=15000, random_state=1\n",
    ")\n",
    "x_train = x_train.reset_index(drop=True)\n",
    "x_valud = x_valid.reset_index(drop=True)\n",
    "\n",
    "y_train, y_valid = x_train[\"TARGET\"], x_valid[\"TARGET\"]"
   ]
  },
  {
   "cell_type": "code",
   "execution_count": 6,
   "metadata": {
    "colab": {},
    "colab_type": "code",
    "id": "srdfQ1ljYzaN"
   },
   "outputs": [],
   "source": [
    "def init_population(number_of_parents: int) -> Dict[str, np.array]:\n",
    "    \"\"\"\n",
    "    Инициализация начальной популяции генетического алгоритма.\n",
    "\n",
    "    Parameters\n",
    "    ----------\n",
    "    number_of_parents: int\n",
    "        Количество родителей в популяции.\n",
    "\n",
    "    Returns\n",
    "    -------\n",
    "    population: dict, Dict[str, np.array]\n",
    "        Словарь с начальной популяцией.\n",
    "\n",
    "    \"\"\"\n",
    "    population = {\n",
    "        \"max_depth\": np.empty([number_of_parents, 1], dtype=np.uint8),\n",
    "        \"min_child_weight\": np.empty([number_of_parents, 1], dtype=np.uint8),\n",
    "        \"subsample\": np.empty([number_of_parents, 1]),\n",
    "        \"colsample_bytree\": np.empty([number_of_parents, 1]),\n",
    "        \"gamma\": np.empty([number_of_parents, 1])\n",
    "    }\n",
    "\n",
    "    for i in range(number_of_parents):\n",
    "        population[\"max_depth\"][i] = round(\n",
    "            random.randrange(1, 10, step=1)\n",
    "        )\n",
    "        population[\"min_child_weight\"][i] = round(\n",
    "            random.uniform(0.01, 10), 2\n",
    "        )\n",
    "        population[\"subsample\"][i] = round(\n",
    "            random.uniform(0.01, 1), 2\n",
    "        )\n",
    "        population[\"colsample_bytree\"][i] = round(\n",
    "            random.uniform(0.01, 1), 2\n",
    "        )\n",
    "        population[\"gamma\"][i] = round(\n",
    "            random.uniform(0.01, 10), 2\n",
    "        )\n",
    "    return population"
   ]
  },
  {
   "cell_type": "code",
   "execution_count": 7,
   "metadata": {
    "colab": {},
    "colab_type": "code",
    "id": "EhclJZyaYzaQ"
   },
   "outputs": [],
   "source": [
    "def train_population(population,\n",
    "                     xgb_train: xgb.DMatrix,\n",
    "                     xgb_valid: xgb.DMatrix,\n",
    "                     y_valid: pd.Series\n",
    "                     ):\n",
    "    \"\"\"\n",
    "    Обучение модели на каждом значении population.\n",
    "    После обучения модели, производится оценка качества\n",
    "    модели с помощью метрики ROC-AUC на данных xgb_valid.\n",
    "\n",
    "    Parameters\n",
    "    ----------\n",
    "    population: numpy.array\n",
    "        Матрица с текущим значением популяции.\n",
    "\n",
    "    xgb_train: xgb.DMatrix\n",
    "        Выборка для обучения модели, в формате xgboost.DMatrix.\n",
    "\n",
    "    xgb_valid: xgb.DMatrix\n",
    "        Выборка для тестирования модели, в формате xgboost.DMatrix.\n",
    "\n",
    "    y_valid: pd.Series\n",
    "        Значение целевой переменной для тестирования модели.\n",
    "\n",
    "    Returns\n",
    "    -------\n",
    "    scores: List[float]\n",
    "        Список со значеним метрик качества.\n",
    "\n",
    "    \"\"\"\n",
    "    scores = []\n",
    "    for i in range(population.shape[0]):\n",
    "        xgb_params = {\n",
    "            \"booster\": \"gbtree\",\n",
    "            \"objective\": \"binary:logistic\",\n",
    "            \"learning_rate\": 0.1,\n",
    "            \"max_depth\": int(population[i][0]),\n",
    "            \"min_child_weight\": population[i][1],\n",
    "            \"subsample\": population[i][2],\n",
    "            \"colsample_bytree\": population[i][3],\n",
    "            \"gamma\": population[i][4],\n",
    "            \"eval_metric\": \"auc\",\n",
    "            \"nthread\": 6,\n",
    "            \"seed\": 27\n",
    "        }\n",
    "        model = xgb.train(\n",
    "            params=xgb_params,\n",
    "            dtrain=xgb_train,\n",
    "            evals=[(xgb_train, \"train\"), (xgb_valid, \"valid\")],\n",
    "            early_stopping_rounds=50,\n",
    "            num_boost_round=1000,\n",
    "            verbose_eval=25,\n",
    "        )\n",
    "        y_pred = model.predict(xgb_valid)\n",
    "        score = roc_auc_score(y_valid, y_pred)\n",
    "        scores.append(score)\n",
    "        print(\"=\"*84)\n",
    "\n",
    "    return scores"
   ]
  },
  {
   "cell_type": "code",
   "execution_count": 8,
   "metadata": {
    "colab": {},
    "colab_type": "code",
    "id": "T8xSjrkCYzaS"
   },
   "outputs": [],
   "source": [
    "num_features = x_train.select_dtypes(exclude=[\"object\"]).columns\n",
    "x_train, x_valid = x_train[num_features], x_valid[num_features]\n",
    "\n",
    "to_drop = [\"SK_ID_CURR\", \"TARGET\"]\n",
    "x_train = x_train.drop(to_drop, axis=1)\n",
    "x_valid = x_valid.drop(to_drop, axis=1)"
   ]
  },
  {
   "cell_type": "code",
   "execution_count": 9,
   "metadata": {
    "colab": {},
    "colab_type": "code",
    "id": "BEDXoD4NYzaV"
   },
   "outputs": [],
   "source": [
    "xgb_train = xgb.DMatrix(\n",
    "    data=x_train, label=y_train\n",
    ")\n",
    "xgb_valid = xgb.DMatrix(\n",
    "    data=x_valid, label=y_valid\n",
    ")"
   ]
  },
  {
   "cell_type": "markdown",
   "metadata": {
    "colab_type": "text",
    "id": "4fDB_c6WYzaX"
   },
   "source": [
    "Определим, сколько родителей мы хотели бы выбрать, и создадим массив с выбранными родителями, основываясь на значениях метрики качества."
   ]
  },
  {
   "cell_type": "code",
   "execution_count": 10,
   "metadata": {
    "colab": {},
    "colab_type": "code",
    "id": "4p8ABKeLYzaX"
   },
   "outputs": [],
   "source": [
    "def select_new_parents(population: np.array, scores: list, num_parents: int):\n",
    "    \"\"\"\n",
    "    Выбор оптимальный параметров популяции на основе\n",
    "    значений метрики качества ROC-AUC.\n",
    "\n",
    "    Parameters\n",
    "    ----------\n",
    "    population: np.array\n",
    "        Матрица с текущим значением популяции.\n",
    "\n",
    "    scores: List[float]\n",
    "        Список со значениями метрики качества.\n",
    "\n",
    "    num_parents: int\n",
    "        Количество родителей, которые требуется отобрать.\n",
    "\n",
    "    Returns\n",
    "    -------\n",
    "    selected_parents: np.array\n",
    "        Значение популяции, отобранное на основе метрики качества.\n",
    "\n",
    "    \"\"\"\n",
    "    scores = deepcopy(scores)\n",
    "    selected_parents = np.empty((\n",
    "        num_parents, population.shape[1]\n",
    "    ))\n",
    "\n",
    "    for parent_id in range(num_parents):\n",
    "        best_result_id = np.where(scores == np.max(scores))\n",
    "        best_result_id = best_result_id[0][0]\n",
    "\n",
    "        selected_parents[parent_id, :] = population[best_result_id, :]\n",
    "        scores[best_result_id] = -1\n",
    "\n",
    "    return selected_parents"
   ]
  },
  {
   "cell_type": "markdown",
   "metadata": {
    "colab_type": "text",
    "id": "nEx-GbQ3Yzac"
   },
   "source": [
    "## Мутация\n",
    "\n",
    "Последним шагом будет разнообразное построение потомков путем случайного выбора одного из параметров и изменения его на случайную величину. Мы также введем некоторые ограничения, чтобы ограничить измененные значения в определенном диапазоне. Пропуск этих ограничений может привести к возникновению ошибки."
   ]
  },
  {
   "cell_type": "code",
   "execution_count": 11,
   "metadata": {
    "colab": {},
    "colab_type": "code",
    "id": "sdgUouoEYzac"
   },
   "outputs": [],
   "source": [
    "def mutation(crossover, number_of_parameters):\n",
    "    \"\"\"\n",
    "    Мутация объектов популяции, получение новых значений\n",
    "    гиперпараметров для проверки гипотезы о повышении качества\n",
    "    работы модели.\n",
    "\n",
    "    Parameters\n",
    "    ----------\n",
    "    crossover: np.array\n",
    "        Исходные объекты популяции.\n",
    "\n",
    "    number_of_parameters: int\n",
    "        Количество параметров.\n",
    "\n",
    "    Returns\n",
    "    -------\n",
    "    crossover: np.array\n",
    "        Мутированные объекты популяции.\n",
    "\n",
    "    \"\"\"\n",
    "    min_max_values = np.zeros((number_of_parameters, 2))\n",
    "\n",
    "    min_max_values[0, :] = [1, 15] # ограничение для max_depth\n",
    "    min_max_values[1, :] = [0, 10] # ограничение для min_child_weight\n",
    "    min_max_values[2, :] = [0.01, 1] # ограничение для subsample\n",
    "    min_max_values[3, :] = [0.01, 1] # ограничение для colsample_bytree\n",
    "    min_max_values[4, :] = [0.01, 10] # ограничение для gamma\n",
    "    parameter_selected = np.random.randint(0, 5, 1)\n",
    "\n",
    "    if parameter_selected == 0:\n",
    "        mutation_value = np.random.randint(-5, 5, 1)\n",
    "    elif parameter_selected == 1:\n",
    "        mutation_value = round(np.random.uniform(5, 5), 2)\n",
    "    elif parameter_selected == 2:\n",
    "        mutation_value = round(np.random.uniform(-0.5, 0.5), 2)\n",
    "    elif parameter_selected == 3:\n",
    "        mutation_value = round(np.random.uniform(-0.5, 0.5), 2)\n",
    "    elif parameter_selected == 4:\n",
    "        mutation_value = round(np.random.uniform(-2, 2), 2)\n",
    "\n",
    "    for idx in range(crossover.shape[0]):\n",
    "        crossover[idx, parameter_selected] = crossover[idx, parameter_selected] + mutation_value\n",
    "        if crossover[idx, parameter_selected] > min_max_values[parameter_selected, 1]:\n",
    "            crossover[idx, parameter_selected] = min_max_values[parameter_selected, 1]\n",
    "        else:\n",
    "            crossover[idx, parameter_selected] = min_max_values[parameter_selected, 0]\n",
    "\n",
    "    return crossover"
   ]
  },
  {
   "cell_type": "markdown",
   "metadata": {
    "colab_type": "text",
    "id": "DOVGGEXQYzae"
   },
   "source": [
    "## Вычислительный эксперимент"
   ]
  },
  {
   "cell_type": "code",
   "execution_count": 12,
   "metadata": {
    "colab": {},
    "colab_type": "code",
    "id": "wMk2Z5rxYzaf"
   },
   "outputs": [],
   "source": [
    "number_of_parents = 8\n",
    "number_of_parents_mating = 4\n",
    "number_of_parameters = 5\n",
    "number_of_generation = 6\n",
    "\n",
    "population_size = (number_of_parents, number_of_parameters)\n",
    "scores_history = np.empty([number_of_generation+1, number_of_parents])\n",
    "\n",
    "params_history = np.empty([(number_of_generation+1) * number_of_parents, number_of_parameters])"
   ]
  },
  {
   "cell_type": "code",
   "execution_count": 13,
   "metadata": {
    "colab": {},
    "colab_type": "code",
    "id": "2iS30UooYzah"
   },
   "outputs": [],
   "source": [
    "population = init_population(number_of_parents)\n",
    "\n",
    "population = np.concatenate((\n",
    "    population[\"max_depth\"],\n",
    "    population[\"min_child_weight\"],\n",
    "    population[\"subsample\"],\n",
    "    population[\"colsample_bytree\"],\n",
    "    population[\"gamma\"]), axis=1)\n",
    "\n",
    "params_history[0:number_of_parents, :] = population"
   ]
  },
  {
   "cell_type": "code",
   "execution_count": 14,
   "metadata": {
    "colab": {},
    "colab_type": "code",
    "id": "VE-w5vmVYzaj",
    "outputId": "7a58c0d7-f655-4cfd-915e-e8039189b8f2"
   },
   "outputs": [
    {
     "name": "stderr",
     "output_type": "stream",
     "text": [
      "100%|████████████████████████████████████████████████████████████████████████████████████| 6/6 [03:51<00:00, 38.52s/it]\n"
     ]
    }
   ],
   "source": [
    "for generation in tqdm(range(number_of_generation)):\n",
    "    best_score, mean_score = np.max(scores_history), np.mean(scores_history)\n",
    "    print(f\"All-history: Best ROC-AUC = {round(best_score, 4)}, Mean ROC-AUC = {round(mean_score, 4)}\")\n",
    "\n",
    "    scores = train_population(\n",
    "        population=population,\n",
    "        xgb_train=xgb_train,\n",
    "        xgb_valid=xgb_valid,\n",
    "       y_valid=y_valid)\n",
    "\n",
    "    scores_history[generation, :] = scores\n",
    "\n",
    "    parents = select_new_parents(\n",
    "        population=population,\n",
    "        scores=scores,\n",
    "        num_parents=4)\n",
    "\n",
    "    children = crossover_arithmetic_recombination(\n",
    "        parents=parents,\n",
    "        children_size=(population_size[0] - parents.shape[0], 5),\n",
    "        alpha = 0.35\n",
    "    )\n",
    "    children_mutated = mutation(children, number_of_parameters=5)\n",
    "    population[0:parents.shape[0], :] = parents\n",
    "    population[parents.shape[0]:, :] = children_mutated\n",
    "\n",
    "    params_history[(generation+1)*8 : (generation+1)*8+8 , :] = population\n",
    "    clear_output()\n",
    "\n",
    "scores_history = pd.DataFrame(scores_history)\n",
    "scores_history = scores_history.loc[:5]"
   ]
  },
  {
   "cell_type": "code",
   "execution_count": 15,
   "metadata": {
    "colab": {},
    "colab_type": "code",
    "id": "xy9TrK2-Yzal",
    "outputId": "7af141f0-4cb8-4c94-d6e3-ace6e609b707"
   },
   "outputs": [
    {
     "data": {
      "text/plain": [
       "<matplotlib.axes._subplots.AxesSubplot at 0x200666b9708>"
      ]
     },
     "execution_count": 15,
     "metadata": {},
     "output_type": "execute_result"
    },
    {
     "data": {
      "image/png": "[encoded data removed]",
      "text/plain": [
       "<Figure size 720x576 with 2 Axes>"
      ]
     },
     "metadata": {
      "needs_background": "light"
     },
     "output_type": "display_data"
    }
   ],
   "source": [
    "fig, axes = plt.subplots(1, 1, figsize=(10, 8))\n",
    "sns.heatmap(scores_history, annot=True, fmt='.4g', linewidths=1, ax=axes)"
   ]
  },
  {
   "cell_type": "code",
   "execution_count": null,
   "metadata": {},
   "outputs": [],
   "source": []
  }
 ],
 "metadata": {
  "colab": {
   "collapsed_sections": [],
   "name": "МО. Генетика. Часть 1.ipynb",
   "provenance": []
  },
  "kernelspec": {
   "display_name": "Python 3",
   "language": "python",
   "name": "python3"
  },
  "language_info": {
   "codemirror_mode": {
    "name": "ipython",
    "version": 3
   },
   "file_extension": ".py",
   "mimetype": "text/x-python",
   "name": "python",
   "nbconvert_exporter": "python",
   "pygments_lexer": "ipython3",
   "version": "3.7.7"
  }
 },
 "nbformat": 4,
 "nbformat_minor": 1
}
