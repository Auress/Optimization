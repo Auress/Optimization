{
 "cells": [
  {
   "cell_type": "markdown",
   "metadata": {},
   "source": [
    "### Урок 6. Методы многокритериальной оптимизации#"
   ]
  },
  {
   "cell_type": "markdown",
   "metadata": {},
   "source": [
    "### -- Автор: Шенк Евгений Станиславович"
   ]
  },
  {
   "cell_type": "markdown",
   "metadata": {},
   "source": [
    "### Задание 1."
   ]
  },
  {
   "cell_type": "markdown",
   "metadata": {},
   "source": [
    "Практическое задание\n",
    "\n",
    "Для выполнения работ $P_1, P_2, P_3$ сельскохозяйственное предприятие может приобрести тракторы марок А и B стоимостью соответственно $c_1$ и $c_2$ ден. ед.  каждый. С использованием новой техники необходимо выполнить не менее $b_1$ условных единиц работы $P_1$, не менее $b_2$ условных единиц работы $P_2$ и не менее  $b_3$ условных единиц работы $P_3$. За рассматриваемый промежуток времени с использованием трактора марки A можно выполнить $a_{11}$ условных единиц работы $P_1$, $a_{21}$ условных единиц работы $P_2$ или $a_{31}$ условных единиц работы $P_3$; с использованием трактора марки Б – $a_{12}$ условных единиц работы $P_1$, $a_{22}$ условных единиц работы $P_2$ или $a_{23}$ условных единиц работы $P_3$. \n",
    "\n",
    "Требуется:\n",
    "\n",
    "Составить экономико-математическую модель, позволяющую найти такой вариант приобретения тракторов той или другой марки, при котором будут выполнены все необходимые работы, а затраты на новую технику будут минимальны;\n",
    "Пользуясь методом ветвей и границ, найти оптимальный вариант приобретения тракторов.\n",
    "\n",
    "$\n",
    "b_1 = 20, b_2 = 190, b_3 = 88, a_{11} = 4, a_{21} = 19, a_{31}=4, a_{12} = 1, a_{22} = 15, a_{32} = 15, c_1= 3, c_2 = 5$"
   ]
  },
  {
   "cell_type": "code",
   "execution_count": 14,
   "metadata": {},
   "outputs": [],
   "source": [
    "import os\n",
    "import numpy as np\n",
    "import pandas as pd\n",
    "import seaborn as sns\n",
    "import matplotlib.pyplot as plt\n",
    "\n",
    "from ortools.linear_solver import pywraplp\n",
    "solver = pywraplp.Solver('SolveSimpleSystem',pywraplp.Solver.GLOP_LINEAR_PROGRAMMING)\n",
    "\n",
    "%matplotlib inline\n",
    "pd.set_option(\"display.max_rows\", 500)"
   ]
  },
  {
   "cell_type": "code",
   "execution_count": 15,
   "metadata": {},
   "outputs": [],
   "source": [
    "b_1 = 20; b_2 = 190; b_3 = 88; \n",
    "a_11 = 4; a_21 = 19; a_31=4; \n",
    "a_12 = 1; a_22 = 15; a_32 = 15;\n",
    "c_1= 3; c_2 = 5"
   ]
  },
  {
   "cell_type": "markdown",
   "metadata": {},
   "source": [
    "Решение:\n",
    "\n",
    "Через $x_1$ и $x_2$ обозначим количество приобретаемых тракторов.\n",
    "\n",
    "Целевая функция, минимизация стоимости:\n",
    "\n",
    "$f = 3x_1 + 5x_2$\n",
    "\n",
    "Требования по выполнению работы:\n",
    "\n",
    "$4x_1+1x_2 >= 20$\n",
    "\n",
    "$19x_1+15x_2 >= 190$\n",
    "\n",
    "$4x_1+15x_2 >= 88$\n",
    "\n",
    "Количество приобретаемых тракторов не может быть отрицательным числом: $x_1, x_2 >= 0$.\n"
   ]
  },
  {
   "cell_type": "code",
   "execution_count": 18,
   "metadata": {},
   "outputs": [],
   "source": [
    "def Solver_min():\n",
    "    # Declare the solver\n",
    "    solver = pywraplp.Solver('LinearProgrammingExample',\n",
    "                             pywraplp.Solver.GLOP_LINEAR_PROGRAMMING)\n",
    "    \n",
    "    x_1 = solver.NumVar(0, solver.infinity(), 'x_1')\n",
    "    x_2 = solver.NumVar(0, solver.infinity(), 'x_2')\n",
    "    \n",
    "    # Constraint 0: 4x_1+1x_2 >= 20.\n",
    "    constraint0 = solver.Constraint(20, solver.infinity())\n",
    "    constraint0.SetCoefficient(x_1, 4)\n",
    "    constraint0.SetCoefficient(x_2, 1)\n",
    "\n",
    "    # Constraint 1: 19x_1+15x_2 >= 190.\n",
    "    constraint1 = solver.Constraint(190, solver.infinity())\n",
    "    constraint1.SetCoefficient(x_1, 19)\n",
    "    constraint1.SetCoefficient(x_2, 15)\n",
    "\n",
    "    # Constraint 2: 4x_1+15x_2 >= 88.\n",
    "    constraint2 = solver.Constraint(88, solver.infinity())\n",
    "    constraint2.SetCoefficient(x_1, 4)\n",
    "    constraint2.SetCoefficient(x_2, 15)\n",
    "    \n",
    "    # Objective function: 3x_1 + 5x_2.\n",
    "    objective = solver.Objective()\n",
    "    objective.SetCoefficient(x_1, 3)\n",
    "    objective.SetCoefficient(x_2, 5)\n",
    "    objective.SetMinimization()\n",
    "    \n",
    "    # Invoke the solver\n",
    "    solver.Solve()\n",
    "    \n",
    "    opt_solution = 3 * x_1.solution_value() + 5 * x_2.solution_value()\n",
    "    print('Number of variables =', solver.NumVariables())\n",
    "    print('Number of constraints =', solver.NumConstraints())\n",
    "    # The value of each variable in the solution.\n",
    "    print('Solution:')\n",
    "    print('x_1 = ', x_1.solution_value())\n",
    "    print('x_2 = ', x_2.solution_value())\n",
    "    # The objective value of the solution.\n",
    "    print('Optimal objective value =', opt_solution)"
   ]
  },
  {
   "cell_type": "code",
   "execution_count": 19,
   "metadata": {},
   "outputs": [
    {
     "name": "stdout",
     "output_type": "stream",
     "text": [
      "Number of variables = 2\n",
      "Number of constraints = 3\n",
      "Solution:\n",
      "x_1 =  6.800000000000001\n",
      "x_2 =  4.053333333333334\n",
      "Optimal objective value = 40.66666666666667\n"
     ]
    }
   ],
   "source": [
    "Solver_min()"
   ]
  },
  {
   "cell_type": "markdown",
   "metadata": {},
   "source": [
    "Получив вариант решения с помошью pywraplp, далее нужно получить целочисленный ответ.  \n",
    "Введя ограничения x_1 <= 7 получаем две подзадачи:  \n",
    "1. x_2 <= 4\n",
    "2. x_2 >= 5\n",
    "\n",
    "Найдем оптимальный план 1-й подзадачи c дополнительным ограничением.  "
   ]
  },
  {
   "cell_type": "markdown",
   "metadata": {},
   "source": [
    "### Ответ:\n",
    "### x_1 = 7;  x_2 = 4;  f(min)=41"
   ]
  },
  {
   "cell_type": "code",
   "execution_count": null,
   "metadata": {},
   "outputs": [],
   "source": []
  }
 ],
 "metadata": {
  "kernelspec": {
   "display_name": "Python 3",
   "language": "python",
   "name": "python3"
  },
  "language_info": {
   "codemirror_mode": {
    "name": "ipython",
    "version": 3
   },
   "file_extension": ".py",
   "mimetype": "text/x-python",
   "name": "python",
   "nbconvert_exporter": "python",
   "pygments_lexer": "ipython3",
   "version": "3.7.7"
  }
 },
 "nbformat": 4,
 "nbformat_minor": 4
}
